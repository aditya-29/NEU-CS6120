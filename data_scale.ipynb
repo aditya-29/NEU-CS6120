{
 "cells": [
  {
   "cell_type": "markdown",
   "metadata": {},
   "source": [
    "Homework 1: Python, Strings, Data, Scale\n",
    "----\n",
    "\n",
    "Due date: Jan 19th, 2024, 11:59 PM\n",
    "\n",
    "Points: 42\n",
    "\n",
    "Files to submit:\n",
    "- `data_scale.ipynb`\n",
    "- `yourdatafilefortask3and4` (See task 3. This file will most likely be a `.txt` or `.csv`, but can be any)\n",
    "\n",
    "Goals:\n",
    "- ensure that your python environment is set up and running\n",
    "- learn/review python skills regarding `string`s, data structures, and file manipulation \n",
    "\n",
    "Complete in groups of: __one (individually)__\n",
    "\n",
    "Allowed python modules:\n",
    "- Note that all necessary modules have already been imported for you for this assignment. (you may import any standard python libraries, plotting libraries as you'd like)\n",
    "\n",
    "\n",
    "Instructions:\n",
    "- Complete outlined problems in this notebook. \n",
    "- When you have finished, __clear the kernel__ and run your notebook \"fresh\" from top to bottom. Ensure that there are __no errors__. \n",
    "    - If a problem asks for you to write code that does result in an error (as in, the answer to the problem is an error), leave the code in your notebook but commented out so that running from top to bottom does not result in any errors.\n",
    "- Double check that you have completed Task 0.\n",
    "- Submit your work on Gradescope.\n",
    "- Double check that your submission on Gradescope looks like you believe it should.\n"
   ]
  },
  {
   "cell_type": "markdown",
   "metadata": {
    "jp-MarkdownHeadingCollapsed": true
   },
   "source": [
    "Task 0: Name, References, Reflection (5 points)\n",
    "---\n",
    "\n",
    "**TODO:** complete this section\n",
    "\n",
    "**Name: Aditya Shanmugham**\n",
    "\n",
    "References\n",
    "---\n",
    "List the resources you consulted to complete this homework here. Write one sentence per resource about what it provided to you. If you consulted no references to complete your assignment, write a brief sentence stating that this is the case and why it was the case for you.\n",
    "\n",
    "(Example)\n",
    "- https://docs.python.org/3/tutorial/datastructures.html\n",
    "    - Read about the the basics and syntax for data structures in python.\n",
    "\n",
    "AI Collaboration\n",
    "---\n",
    "\n",
    "I *recommend* not using LLMs to aid in this homework but instead use the documentation linked below, since it is vital for you to learn how to use Python properly. If, however, you get stuck and use generative AI or LLMs to help you complete this assignment, remember to cite it here with a short description of what you used it for, and which other resources you consulted (if any).\n",
    "\n",
    "Reflection\n",
    "----\n",
    "Answer the following questions __after__ you complete this assignment (no more than 1 sentence per question required, this section is graded on completion):\n",
    "\n",
    "1. Does this work reflect your best effort?\n",
    "> Yes\n",
    "2. What was/were the most challenging part(s) of the assignment?\n",
    "> Tbh None, I would say Data Write up consumed most of my time\n",
    "3. If you want feedback, what function(s) or problem(s) would you like feedback on and why?\n",
    "> NA\n",
    "\n",
    "\n",
    "\n"
   ]
  },
  {
   "cell_type": "code",
   "execution_count": null,
   "metadata": {},
   "outputs": [],
   "source": []
  },
  {
   "cell_type": "markdown",
   "metadata": {},
   "source": [
    "Task 1: Python Warm-up (8 points)\n",
    "----\n",
    "\n",
    "We'll warm-up by either learning about or reviewing `string`s, `for` loops, `range()`, and `list`s.\n",
    "\n",
    "Links to relevant documentation:\n",
    "- [strings](https://docs.python.org/3/library/string.html)\n",
    "- [Prof. Felix Muzny's notes on strings](https://muzny.github.io/csci1200-notes/03/5/strings.html)\n",
    "- [for loops](https://wiki.python.org/moin/ForLoop)\n",
    "- [Prof. Felix Muzny's notes on for loops](https://muzny.github.io/csci1200-notes/08/1/for_loops_basics.html)\n",
    "- [lists](https://docs.python.org/3/tutorial/datastructures.html)\n",
    "- [Prof. Felix Muzny's notes on lists](https://muzny.github.io/csci1200-notes/07/1/lists_basics.html)"
   ]
  },
  {
   "cell_type": "code",
   "execution_count": 1,
   "metadata": {},
   "outputs": [
    {
     "name": "stdout",
     "output_type": "stream",
     "text": [
      "a\n",
      "d\n",
      "i\n",
      "t\n",
      "y\n",
      "a\n"
     ]
    }
   ],
   "source": [
    "# define a string variable, then\n",
    "# using a for loop, iterate through the letters of a string\n",
    "s = \"aditya\"\n",
    "for i in s:\n",
    "    print(i)"
   ]
  },
  {
   "cell_type": "code",
   "execution_count": 2,
   "metadata": {},
   "outputs": [
    {
     "name": "stdout",
     "output_type": "stream",
     "text": [
      "1\n",
      "2\n",
      "3\n",
      "4\n",
      "5\n"
     ]
    }
   ],
   "source": [
    "# define a list variable, then\n",
    "# using a for loop, iterate through the contents of a list\n",
    "ls = [1,2,3,4,5]\n",
    "for i in ls:\n",
    "    print(i)"
   ]
  },
  {
   "cell_type": "code",
   "execution_count": 3,
   "metadata": {},
   "outputs": [
    {
     "name": "stdout",
     "output_type": "stream",
     "text": [
      "Printing\n",
      "every\n",
      "other\n",
      "token\n"
     ]
    }
   ],
   "source": [
    "# define a string variable, then\n",
    "# using a for loop and the range() function, print out every other token \n",
    "# (you may assume tokens are separated by spaces) in the string\n",
    "\n",
    "s = \"Printing every other token\"\n",
    "\n",
    "for i in range(0, len(s.split())):\n",
    "    print(s.split()[i])"
   ]
  },
  {
   "cell_type": "code",
   "execution_count": 4,
   "metadata": {},
   "outputs": [
    {
     "name": "stdout",
     "output_type": "stream",
     "text": [
      "str.split() :  ['example', 'statement', '1']\n",
      "str.split(' ') :  ['example', '', '', '', '', 'statement', '', '', '', '', '1']\n"
     ]
    }
   ],
   "source": [
    "# demonstrate the difference(s) between calling python's \n",
    "# str.split() function like str.split(' ') and str.split()\n",
    "s1 = \"example     statement     1\"\n",
    "\n",
    "print(\"str.split() : \", s1.split())\n",
    "print(\"str.split(' ') : \", s1.split(\" \"))"
   ]
  },
  {
   "cell_type": "markdown",
   "metadata": {},
   "source": [
    "Task 2: Timing Python Functions (15 points)\n",
    "----\n",
    "\n",
    "In this section, we'll explore efficiency and python data structures.\n",
    "You'll work on increasing your familiarity with `list`s, `dict`s, and [`Counter`](https://docs.python.org/3/library/collections.html#collections.Counter)s.\n",
    "\n",
    "Notice that in our python function headers, we include [type hints](https://docs.python.org/3/library/typing.html)."
   ]
  },
  {
   "cell_type": "code",
   "execution_count": 5,
   "metadata": {},
   "outputs": [],
   "source": [
    "# for timing\n",
    "import time\n",
    "\n",
    "# for our fancier data structure\n",
    "from collections import Counter\n",
    "\n",
    "# for type hinting\n",
    "from typing import Callable\n",
    "\n",
    "# for graphing\n",
    "import matplotlib.pyplot as plt\n",
    "\n",
    "# for random number generation\n",
    "import random"
   ]
  },
  {
   "cell_type": "code",
   "execution_count": 6,
   "metadata": {},
   "outputs": [
    {
     "name": "stdout",
     "output_type": "stream",
     "text": [
      "That took: 0.0 seconds!\n"
     ]
    }
   ],
   "source": [
    "# provided\n",
    "def timer(fun: Callable, tokens: list) -> float:\n",
    "    \"\"\"\n",
    "    measure (in seconds) the time that it takes to run a\n",
    "    function that operates on a list of strings (tokens)\n",
    "\n",
    "    Args:\n",
    "    fun: Callable\n",
    "    tokens: list\n",
    "\n",
    "    return:\n",
    "    float (seconds)\n",
    "    \"\"\"\n",
    "    start = time.time()\n",
    "    fun(tokens)\n",
    "    end = time.time()\n",
    "    return end - start\n",
    "\n",
    "# call like \n",
    "# len is the funtion that is being timed\n",
    "print(\"That took:\", timer(len, [\"this\", \"is\", \"a\", \"test\"]), \"seconds!\")"
   ]
  },
  {
   "cell_type": "code",
   "execution_count": 7,
   "metadata": {},
   "outputs": [],
   "source": [
    "# TODO: implement the following functions (function signatures are provided for you)\n",
    "\n",
    "def count_list(tokens: list) -> dict:\n",
    "    \"\"\"\n",
    "    Count the number of occurrences of each token in a list of tokens.\n",
    "    Use the list.count() method.\n",
    "\n",
    "    Args:\n",
    "    tokens: list of items (often tokens)\n",
    "\n",
    "    return:\n",
    "    dict (mapping from token to count)\n",
    "    \"\"\"\n",
    "    # YOUR CODE HERE\n",
    "    mp = {}\n",
    "    for i in set(tokens):\n",
    "        mp[i] = tokens.count(i)\n",
    "    return mp\n",
    "\n",
    "def count_dict(tokens: list) -> dict:\n",
    "    \"\"\"\n",
    "    Count the number of occurrences of each token in a list of tokens.\n",
    "    Do not use the list.count() method. Do not use a Counter.\n",
    "    If you would like to use any method/function other than len, it must be\n",
    "    okay'd with the teaching staff.\n",
    "\n",
    "    Args:\n",
    "    tokens: list of items (often tokens)\n",
    "\n",
    "    return:\n",
    "    dict (mapping from token to count)\n",
    "    \"\"\"\n",
    "    # YOUR CODE HERE\n",
    "    mp = {}\n",
    "    for i in range(len(tokens)):\n",
    "        if tokens[i] not in mp:\n",
    "            mp[tokens[i]] = 0\n",
    "        mp[tokens[i]] += 1\n",
    "    return mp\n",
    "\n",
    "def count_counter(tokens: list) -> Counter:\n",
    "    \"\"\"\n",
    "    Count the number of occurrences of each token in a list of tokens.\n",
    "    Use a Counter.\n",
    "    Do not use the list.count() method or any other list/dict functions/methods.\n",
    "\n",
    "    Args:\n",
    "    tokens: list of items (often tokens)\n",
    "\n",
    "    return:\n",
    "    Counter (mapping from token to count)\n",
    "    \"\"\"\n",
    "    # YOUR CODE HERE\n",
    "    return Counter(tokens)\n",
    "    "
   ]
  },
  {
   "cell_type": "code",
   "execution_count": 8,
   "metadata": {},
   "outputs": [
    {
     "name": "stdout",
     "output_type": "stream",
     "text": [
      "All functions produce the same result\n"
     ]
    }
   ],
   "source": [
    "# TODO: verify that your count_* functions are correct and consistent with one another\n",
    "\n",
    "# Make sure to test both if the list does not have duplicates and if it does\n",
    "ls1 = [1,1,1,2,2,2,3,3,3]\n",
    "ls2 = [10, 11, 12]\n",
    "\n",
    "out = []\n",
    "for ls in [ls1, ls2]:\n",
    "    if not(count_list(ls) == count_dict(ls) == dict(count_counter(ls))):\n",
    "        out.append(ls)\n",
    "\n",
    "if len(out) == 0:\n",
    "    print(\"All functions produce the same result\")\n",
    "else:\n",
    "    for i in out:\n",
    "        print(\"The functions produced different result for : \", ls)\n",
    "\n"
   ]
  },
  {
   "cell_type": "code",
   "execution_count": 9,
   "metadata": {},
   "outputs": [
    {
     "data": {
      "image/png": "[encoded data removed]",
      "text/plain": [
       "<Figure size 1000x600 with 1 Axes>"
      ]
     },
     "metadata": {},
     "output_type": "display_data"
    }
   ],
   "source": [
    "# TODO: create a graph with three lines, one for each of the three count_* functions\n",
    "# x-axis should be the number of items in the list given to the function (go up to at least 500)\n",
    "# y-axis should be the time taken to run the function\n",
    "# the graph should have a legend indicating which line is which (use plt.legend() to make this happen)\n",
    "\n",
    "# you'll need to generate one (or more) list(s) of items to be counted.\n",
    "# we recommend using the random module to generate random integers\n",
    "\n",
    "def plot_time_complexity(max_num, upper_limit=2000, skip_num=100):\n",
    "    x = []\n",
    "    time_mp = {\n",
    "        \"count_list\" : [],\n",
    "        \"count_dict\" : [],\n",
    "        \"count_counter\": []\n",
    "    }\n",
    "\n",
    "\n",
    "    for i in range(0, upper_limit, skip_num):\n",
    "        arr = [random.randint(0, max_num) for j in range(i)]\n",
    "        x.append(i)\n",
    "        time_mp[\"count_list\"].append(timer(count_list, arr))\n",
    "        time_mp[\"count_dict\"].append(timer(count_dict, arr))\n",
    "        time_mp[\"count_counter\"].append(timer(count_counter, arr))\n",
    "\n",
    "    plt.figure(figsize=(10, 6))\n",
    "    plt.plot(x, time_mp[\"count_list\"], label=\"count_list()\", marker=\".\")\n",
    "    plt.plot(x, time_mp[\"count_dict\"], label=\"count_dict()\", marker=\".\")\n",
    "    plt.plot(x, time_mp[\"count_counter\"], label=\"count_counter()\", marker=\".\")\n",
    "    plt.xlabel(\"Number of item in the list\", fontsize=12)\n",
    "    plt.ylabel(\"Time Taken\", fontsize=12)\n",
    "    plt.title(\"Time Complexity Analysis\", fontsize=12)\n",
    "    plt.grid(True, linestyle=\"--\", alpha=0.7)\n",
    "    plt.legend()\n",
    "\n",
    "    plt.show()\n",
    "\n",
    "~\n",
    "plot_time_complexity(max_num = 100)\n",
    "\n",
    "\n",
    "    "
   ]
  },
  {
   "cell_type": "markdown",
   "metadata": {},
   "source": [
    "Task 3: Real World Data (8 points)\n",
    "----\n",
    "\n",
    "In this section, you'll find some real world text data *of interest to you* and run some analysis on this data. The data that you choose can include labels, but if it does, do not include those labels in your counts of tokens, etc.\n",
    "\n",
    "\n",
    "Size requirements:\n",
    "- your file must contain a minimum of 10,000 tokens (as measured by at least *one* of your tokenization schemes).\n",
    "\n",
    "\n",
    "Key vocabulary:\n",
    "\n",
    "__token__: The unit that we will operate on when processing text. Normally corresponds roughly to \"words\", and you can assume that this is the case for this homework."
   ]
  },
  {
   "cell_type": "code",
   "execution_count": 10,
   "metadata": {},
   "outputs": [],
   "source": [
    "# TODO\n",
    "# the file should be in the same folder as this notebook because when you \n",
    "# submit this notebook, you will also submit the file and the backend of the \n",
    "# system expects them to be in the same directory\n",
    "FILE = \"./wizard_of_oz.txt\""
   ]
  },
  {
   "cell_type": "code",
   "execution_count": 11,
   "metadata": {},
   "outputs": [
    {
     "name": "stdout",
     "output_type": "stream",
     "text": [
      "File successfully read !\n"
     ]
    }
   ],
   "source": [
    "# read the contents of your file in, however you'd like\n",
    "import os\n",
    "\n",
    "if not os.path.exists(FILE):\n",
    "    raise FileNotFoundError(\"The sample document doesnt exist in the same directory\")\n",
    "\n",
    "with open(FILE, \"r\") as f:\n",
    "    content = f.read()\n",
    "    print(\"File successfully read !\")\n",
    "\n"
   ]
  },
  {
   "cell_type": "code",
   "execution_count": 12,
   "metadata": {},
   "outputs": [
    {
     "name": "stdout",
     "output_type": "stream",
     "text": [
      "total number of lines :  5423\n"
     ]
    }
   ],
   "source": [
    "# how many lines are in your file?\n",
    "\n",
    "print(\"total number of lines : \", len(content.split(\"\\n\")))\n"
   ]
  },
  {
   "cell_type": "code",
   "execution_count": 13,
   "metadata": {},
   "outputs": [
    {
     "name": "stdout",
     "output_type": "stream",
     "text": [
      "Total number of unique tokens :  7368\n",
      "Total number of words :  42249\n"
     ]
    }
   ],
   "source": [
    "# tokenize your data using the str.split() function. How many tokens are there?\n",
    "mp = {}\n",
    "i = 0\n",
    "\n",
    "for c, word in enumerate(content.split()):\n",
    "    if word not in mp:\n",
    "        mp[word] = i\n",
    "        i += 1\n",
    "    \n",
    "print(\"Total number of unique tokens : \", len(mp))\n",
    "print(\"Total number of words : \", c)\n"
   ]
  },
  {
   "cell_type": "markdown",
   "metadata": {},
   "source": [
    "Find five specific examples of difficult-to-tokenize sequences of letters in your data.\n",
    "- Example 1\n",
    "> '\\ufeff' - UTF-8 adds this signature for every document\n",
    "- Example 2\n",
    "> '[Illustration]' This represents a diagram or a picture in the book\n",
    "- Example 3\n",
    "> 'Baum!\"' I guess in the book there might be a sentence where a character might have told `.... Baum!` So, there is a \" at the end\n",
    "- Example 4\n",
    "> '\"It' Similar to the above example, a \" is present at the begining of the token\n",
    "- Example 5\n",
    "> 'adventure.' The dot is not necessary, so there are 2 token for the same word 'adventure' and 'adventure.'\n"
   ]
  },
  {
   "cell_type": "markdown",
   "metadata": {},
   "source": [
    "Task 4: Data Write-Up (6 points)\n",
    "---\n",
    "\n",
    "Every time you use a data set in an NLP application (or in any software application), you should be able to answer a set of questions about that data. Answer these now. Default to no more than 1 sentence per question needed. If more explanation is necessary, do give it.\n"
   ]
  },
  {
   "cell_type": "markdown",
   "metadata": {},
   "source": [
    "1. Where did you get the data from?\n",
    "> I got it from the website - https://www.gutenberg.org/ebooks/55\n",
    "2. How was the data collected (where did the people acquiring the data get it from and how)?\n",
    "> Its a story book, so the rights belong to the authors\n",
    "3. How large is the dataset? (copy # of lines and # of tokens from above)\n",
    "> Lines - 5423; Unique tokens - 7368; Total Tokens - 42249\n",
    "4. Is your dataset a subset of a larger dataset or the entirety of a dataset? (e.g. the first half of reviews from the dataset.... vs. all reviews from ...)\n",
    "> No, its the complete book\n",
    "5. What is your data? (i.e. newswire, tweets, books, blogs, etc)\n",
    "> Story Book\n",
    "6. Who produced the data? (who were the authors of the text? Your answer might be a specific person or a particular group of people)\n",
    "> Baum, L. Frank (Lyman Frank), 1856-1919 [Author]"
   ]
  }
 ],
 "metadata": {
  "kernelspec": {
   "display_name": "Python 3 (ipykernel)",
   "language": "python",
   "name": "python3"
  },
  "language_info": {
   "codemirror_mode": {
    "name": "ipython",
    "version": 3
   },
   "file_extension": ".py",
   "mimetype": "text/x-python",
   "name": "python",
   "nbconvert_exporter": "python",
   "pygments_lexer": "ipython3",
   "version": "3.10.6"
  }
 },
 "nbformat": 4,
 "nbformat_minor": 4
}
